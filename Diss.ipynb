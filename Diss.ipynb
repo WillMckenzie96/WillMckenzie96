{
  "nbformat": 4,
  "nbformat_minor": 0,
  "metadata": {
    "colab": {
      "name": "Diss.ipynb",
      "provenance": [],
      "authorship_tag": "ABX9TyMu43XRlBNNm2ffgqSZoEBg",
      "include_colab_link": true
    },
    "kernelspec": {
      "name": "python3",
      "display_name": "Python 3"
    },
    "language_info": {
      "name": "python"
    }
  },
  "cells": [
    {
      "cell_type": "markdown",
      "metadata": {
        "id": "view-in-github",
        "colab_type": "text"
      },
      "source": [
        "<a href=\"https://colab.research.google.com/github/WillMckenzie96/WillMckenzie96/blob/main/Diss.ipynb\" target=\"_parent\"><img src=\"https://colab.research.google.com/assets/colab-badge.svg\" alt=\"Open In Colab\"/></a>"
      ]
    },
    {
      "cell_type": "code",
      "metadata": {
        "id": "UqtP4uOE1PgG"
      },
      "source": [
        "import os   \n",
        " \n",
        "os.getcwd()                         # os lib that we need to create files, dirs or find our way..\n",
        "import numpy   as np                 # numerical library in python\n",
        "import pandas  as pd                 # dataframe library in python\n",
        "import seaborn as sns                # package that is used to create nice graphs\n",
        "from matplotlib import pyplot as plt # the ploting package in python\n",
        "sns.set()                            # set the graphics to seaborn standards            \n",
        "get_ipython().run_line_magic('config', \"InlineBackend.figure_format = 'retina' # this will procude higher dpi images. NOTE: if you run this on spyder or another ide than jupyter, you will get an error. Comment it to avoid this.\")\n",
        "\n",
        "from   tensorflow.keras.preprocessing.sequence import TimeseriesGenerator # Required below, you will see why\n",
        "import tensorflow as tf                                                   # Tensorflow"
      ],
      "execution_count": null,
      "outputs": []
    }
  ]
}